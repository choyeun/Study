{
  "nbformat": 4,
  "nbformat_minor": 0,
  "metadata": {
    "colab": {
      "provenance": [],
      "include_colab_link": true
    },
    "kernelspec": {
      "name": "python3",
      "display_name": "Python 3"
    },
    "language_info": {
      "name": "python"
    }
  },
  "cells": [
    {
      "cell_type": "markdown",
      "metadata": {
        "id": "view-in-github",
        "colab_type": "text"
      },
      "source": [
        "<a href=\"https://colab.research.google.com/github/choyeun/Study/blob/main/9/27%20%EC%9D%B8%EA%B3%B5%EC%A7%80%EB%8A%A5%20%EA%B0%9C%EB%A1%A0.ipynb\" target=\"_parent\"><img src=\"https://colab.research.google.com/assets/colab-badge.svg\" alt=\"Open In Colab\"/></a>"
      ]
    },
    {
      "cell_type": "code",
      "execution_count": 39,
      "metadata": {
        "colab": {
          "base_uri": "https://localhost:8080/"
        },
        "id": "ER68Te5jP6nF",
        "outputId": "0ea44723-5772-47c0-f13c-de6f5ec88eb3"
      },
      "outputs": [
        {
          "name": "stdout",
          "output_type": "stream",
          "text": [
            "이름: asdf\n",
            "전화번호: 789799\n",
            "이름: asdf\n",
            "전화번호: 789799\n",
            "이름: eythsrt\n",
            "전화번호: 6464\n",
            "이름: eythsrt\n",
            "전화번호: 6464\n",
            "이름: aaa\n",
            "전화번호: 1111\n",
            "이름: aaa\n",
            "전화번호: 1111\n",
            "이름: n\n"
          ]
        }
      ],
      "source": [
        "# 전화번호부 생성\n",
        "phone = {}\n",
        "while(True):\n",
        "    # 사용자로부터 이름과 전화번호 입력 받기\n",
        "    name = input(\"이름: \")\n",
        "    if name == \"n\": break\n",
        "    number = input(\"전화번호: \")\n",
        "\n",
        "    #   전화번호부에 추가\n",
        "    phone[name] =number\n",
        "\n",
        "    # 입력된 정보 출력\n",
        "    print(\"이름: \" + name)\n",
        "    print(\"전화번호: \" + phone[name])\n",
        "\n",
        "\n",
        "\n"
      ]
    },
    {
      "cell_type": "code",
      "source": [
        "    # 삭제\n",
        "    name = input(\"삭제할 이름: \")\n",
        "    if name in phone:\n",
        "        del phone[name]\n",
        "        print(f\"{name} 전화번호 삭제\")\n",
        "    else:\n",
        "        print(f\"{name}없음\")"
      ],
      "metadata": {
        "colab": {
          "base_uri": "https://localhost:8080/"
        },
        "id": "cwvXU6bHQlxU",
        "outputId": "d0478c9a-40a3-453b-b7bd-c0fa2ee68be8"
      },
      "execution_count": 40,
      "outputs": [
        {
          "output_type": "stream",
          "name": "stdout",
          "text": [
            "삭제할 이름: asdf\n",
            "asdf 전화번호 삭제\n"
          ]
        }
      ]
    },
    {
      "cell_type": "code",
      "source": [
        "    # 수정\n",
        "    name = input(\"수정할 이름: \")\n",
        "    if name in phone:\n",
        "        new_number = input(\"새 전화번호를 입력: \")\n",
        "        phone[name] = new_number\n",
        "        print(f\"{name} 전화번호 수정\")\n",
        "    else:\n",
        "        print(f\"{name}없음\")"
      ],
      "metadata": {
        "colab": {
          "base_uri": "https://localhost:8080/"
        },
        "id": "-doOr2SuRU-k",
        "outputId": "d87aed91-6493-4f10-c6d4-497bd8fcf0de"
      },
      "execution_count": 41,
      "outputs": [
        {
          "output_type": "stream",
          "name": "stdout",
          "text": [
            "수정할 이름: eythsrt\n",
            "새 전화번호를 입력: 000000\n",
            "eythsrt 전화번호 수정\n"
          ]
        }
      ]
    },
    {
      "cell_type": "code",
      "source": [
        "# 검색\n",
        "\n",
        "name = input(\"검색할 이름을 입력하세요: \")\n",
        "if name in phone:\n",
        "        print(f\"이름: {name}, 전화번호: {phone[name]}\")\n",
        "else:\n",
        "        print(f\"{name} 없음\")"
      ],
      "metadata": {
        "colab": {
          "base_uri": "https://localhost:8080/"
        },
        "id": "95GM7XjZUvaN",
        "outputId": "a6a4e990-3c5a-4507-c23d-540e6720e259"
      },
      "execution_count": 42,
      "outputs": [
        {
          "output_type": "stream",
          "name": "stdout",
          "text": [
            "검색할 이름을 입력하세요: eythsrt\n",
            "이름: eythsrt, 전화번호: 000000\n"
          ]
        }
      ]
    },
    {
      "cell_type": "code",
      "source": [
        "# 리스트\n",
        "\n",
        "if not phone:\n",
        "        print(\"전화번호부 없음\")\n",
        "else:\n",
        "        for name, number in phone.items():\n",
        "            print(f\"이름: {name}, 전화번호: {number}\")"
      ],
      "metadata": {
        "colab": {
          "base_uri": "https://localhost:8080/"
        },
        "id": "rc-FJkq7Uw9A",
        "outputId": "5f4bc40f-f5e8-40b2-856f-64efe5f37ca6"
      },
      "execution_count": 43,
      "outputs": [
        {
          "output_type": "stream",
          "name": "stdout",
          "text": [
            "이름: eythsrt, 전화번호: 000000\n",
            "이름: aaa, 전화번호: 1111\n"
          ]
        }
      ]
    }
  ]
}